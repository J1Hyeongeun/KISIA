{
  "cells": [
    {
      "cell_type": "markdown",
      "metadata": {
        "id": "view-in-github",
        "colab_type": "text"
      },
      "source": [
        "<a href=\"https://colab.research.google.com/github/J1Hyeongeun/KISIA/blob/main/part5_s.ipynb\" target=\"_parent\"><img src=\"https://colab.research.google.com/assets/colab-badge.svg\" alt=\"Open In Colab\"/></a>"
      ]
    },
    {
      "cell_type": "markdown",
      "metadata": {
        "id": "N6S7neQGcmgv"
      },
      "source": [
        "# 1. 분석기획\n"
      ]
    },
    {
      "cell_type": "markdown",
      "metadata": {
        "id": "oaSzDYTw4Mue"
      },
      "source": [
        "해당 프로젝트는 1912년 타이타닉호에 탑승했던 탑승객 중 일부 데이터 (생존여부 포함) 를 학습하여, 생존에 기여한 데이터 특성을 발견하고, 학습에 사용되지 않은 테스트 데이터에  대하여 생존율 예측을 90% 이상의 정확도를 가지는 머신러닝 모델 개발을 목표로 한다.  \n",
        "별도의 도메인 지식은 필요하지 않으며 프로젝트상 리스크는 특별히 존재하지 않는다."
      ]
    },
    {
      "cell_type": "markdown",
      "metadata": {
        "id": "LiaJ_aZVc0sB"
      },
      "source": [
        "# 2. 데이터 준비"
      ]
    },
    {
      "cell_type": "markdown",
      "metadata": {
        "id": "hEojlHx_UWIr"
      },
      "source": [
        "해당 프로젝트에서는 별도의 데이터 수집단계를 거치지 않으며, 분석에 필요한 데이터가 주어진 것을 가정한다.  \n",
        "(실제 인공지능 시스템 구현 프로젝트에서는 분석기획에 따라 장기간 데이터의 축적/레이블링이 선행되어야 할 수 있다.)\n"
      ]
    },
    {
      "cell_type": "markdown",
      "metadata": {
        "id": "uxnIwT7FCN2-"
      },
      "source": [
        "### 라이브러리 Import"
      ]
    },
    {
      "cell_type": "code",
      "execution_count": null,
      "metadata": {
        "id": "XN9itg9ECLzJ"
      },
      "outputs": [],
      "source": [
        "from google.colab import drive\n",
        "import pickle\n",
        "\n",
        "import numpy as np\n",
        "import pandas as pd\n",
        "import matplotlib.pyplot as plt\n",
        "\n",
        "from sklearn import preprocessing\n",
        "from sklearn.model_selection import train_test_split"
      ]
    },
    {
      "cell_type": "markdown",
      "metadata": {
        "id": "DOCggYDLCujt"
      },
      "source": [
        "### 데이터 로드"
      ]
    },
    {
      "cell_type": "code",
      "execution_count": null,
      "metadata": {
        "id": "xk-xedhaCyDe"
      },
      "outputs": [],
      "source": [
        "# 구글 드라이브 mount\n",
        "drive.mount('/content/gdrive')\n"
      ]
    },
    {
      "cell_type": "code",
      "execution_count": null,
      "metadata": {
        "id": "0r8Vy1XBD2dl"
      },
      "outputs": [],
      "source": [
        "# 데이터 파일 로드\n",
        "colab_path = \"gdrive/My Drive/AI보안 기술개발 인력양성/공통교육/data/\"\n",
        "df_train = pd.read_csv(colab_path + 'part5_titanic_train.csv')\n",
        "df_test = pd.read_csv(colab_path + 'part5_titanic_test.csv')\n",
        "print(\"학습데이터: {}건, 테스트용데이터: {}건\".format(len(df_train), len(df_test)))"
      ]
    },
    {
      "cell_type": "markdown",
      "metadata": {
        "id": "TKfYfcoufGTQ"
      },
      "source": [
        "# 3. 데이터 분석"
      ]
    },
    {
      "cell_type": "markdown",
      "metadata": {
        "id": "I3sutvTcfM1H"
      },
      "source": [
        "## 3.1. 분석용 데이터 준비: 전처리\n",
        "\n",
        "\n"
      ]
    },
    {
      "cell_type": "markdown",
      "metadata": {
        "id": "YxUqnq07THDi"
      },
      "source": [
        "### 데이터 구조 확인"
      ]
    },
    {
      "cell_type": "code",
      "execution_count": null,
      "metadata": {
        "id": "9HfFINgGTGGv"
      },
      "outputs": [],
      "source": [
        "# 데이터 샘플 확인 \n"
      ]
    },
    {
      "cell_type": "code",
      "execution_count": null,
      "metadata": {
        "id": "Zv8Acem8TQDz"
      },
      "outputs": [],
      "source": [
        "# 데이터 dimension 확인\n"
      ]
    },
    {
      "cell_type": "code",
      "execution_count": null,
      "metadata": {
        "id": "eQY8g7hRTWa6"
      },
      "outputs": [],
      "source": [
        "# 데이터의 개략적인 정보 확인\n"
      ]
    },
    {
      "cell_type": "markdown",
      "metadata": {
        "id": "o8O-Sv1-PH2Z"
      },
      "source": [
        "### Label 변수 확인"
      ]
    },
    {
      "cell_type": "code",
      "execution_count": null,
      "metadata": {
        "id": "g-IcqTdiG9e5"
      },
      "outputs": [],
      "source": [
        "# 'Survived' 필드 구성 값 확인\n"
      ]
    },
    {
      "cell_type": "code",
      "execution_count": null,
      "metadata": {
        "id": "QMzC4ESWNfYK"
      },
      "outputs": [],
      "source": [
        "# value_counts()는 Series의 unique value를 count해주는 함수\n"
      ]
    },
    {
      "cell_type": "code",
      "execution_count": null,
      "metadata": {
        "id": "4HS4kp8pPTGc"
      },
      "outputs": [],
      "source": [
        "# value_counts() 결과값을 percent 정보로 변환\n"
      ]
    },
    {
      "cell_type": "markdown",
      "metadata": {
        "id": "cufu7obUgREY"
      },
      "source": [
        "### 결측치 처리"
      ]
    },
    {
      "cell_type": "code",
      "execution_count": null,
      "metadata": {
        "id": "HSZVq5PdiYqr"
      },
      "outputs": [],
      "source": [
        "# 결측치 확인\n"
      ]
    },
    {
      "cell_type": "code",
      "execution_count": null,
      "metadata": {
        "id": "N_n_NZE0RLrr"
      },
      "outputs": [],
      "source": [
        "# 결측치 처리 - Embarked\n"
      ]
    },
    {
      "cell_type": "code",
      "execution_count": null,
      "metadata": {
        "id": "Cd7mBhWDUbA0"
      },
      "outputs": [],
      "source": [
        "# 결측치 처리(대체) - Embarked\n"
      ]
    },
    {
      "cell_type": "code",
      "execution_count": null,
      "metadata": {
        "id": "mgMc5uETWAKB"
      },
      "outputs": [],
      "source": [
        "# 결측치 처리 - Age\n",
        "# 'Age'와의 상관관계가 높은 Feature 확인\n"
      ]
    },
    {
      "cell_type": "code",
      "execution_count": null,
      "metadata": {
        "id": "jIctDw7PZqVB"
      },
      "outputs": [],
      "source": [
        "# 결측치 처리 - Age\n",
        "# 추후 Age가 결측치인 데이터를 필터링하여 추가분석 할 수 있도록 Column 생성\n"
      ]
    },
    {
      "cell_type": "code",
      "execution_count": null,
      "metadata": {
        "id": "nmCB9Vm1ayLM"
      },
      "outputs": [],
      "source": [
        "# 결측치 처리 - Age\n",
        "# 평균값으로 대체 (mode, median 값 등을 사용할 수도 있음)\n"
      ]
    },
    {
      "cell_type": "code",
      "execution_count": null,
      "metadata": {
        "id": "oMDtae8XWIOF"
      },
      "outputs": [],
      "source": [
        "# 결측치 처리(대체) - Age\n"
      ]
    },
    {
      "cell_type": "code",
      "execution_count": null,
      "metadata": {
        "id": "y1OKUvoJGJoj"
      },
      "outputs": [],
      "source": [
        "df_train"
      ]
    },
    {
      "cell_type": "code",
      "execution_count": null,
      "metadata": {
        "id": "zfuOZTABsACl"
      },
      "outputs": [],
      "source": [
        "# 결측치 처리 - Cabin\n"
      ]
    },
    {
      "cell_type": "code",
      "execution_count": null,
      "metadata": {
        "id": "2sTyBzrt30e7"
      },
      "outputs": [],
      "source": [
        "# 결측치 처리(해당 Feature 제외) - Cabin\n"
      ]
    },
    {
      "cell_type": "code",
      "execution_count": null,
      "metadata": {
        "id": "hRXXBF8U_Nrn"
      },
      "outputs": [],
      "source": [
        "# 결측치 처리 결과 확인\n",
        "df_train.isnull().sum()"
      ]
    },
    {
      "cell_type": "markdown",
      "metadata": {
        "id": "3RcvOo9UcuE5"
      },
      "source": [
        "### 이상값 처리"
      ]
    },
    {
      "cell_type": "code",
      "execution_count": null,
      "metadata": {
        "id": "36XKBEBfi3Ka"
      },
      "outputs": [],
      "source": [
        "# Pclass(등급) unique값  \n"
      ]
    },
    {
      "cell_type": "code",
      "execution_count": null,
      "metadata": {
        "id": "LHoZYlQ7jkCH"
      },
      "outputs": [],
      "source": [
        "# Sex(성별) unique값\n"
      ]
    },
    {
      "cell_type": "code",
      "execution_count": null,
      "metadata": {
        "id": "G68qP1F4jBGj"
      },
      "outputs": [],
      "source": [
        "# SibSp(함께 탑승한 형제자매, 아내, 남편의 수) unique값\n"
      ]
    },
    {
      "cell_type": "code",
      "execution_count": null,
      "metadata": {
        "id": "6xumsyPSpIx5"
      },
      "outputs": [],
      "source": [
        "# Parch(함께 탑승한 부모, 자식의 수) unique값\n"
      ]
    },
    {
      "cell_type": "code",
      "execution_count": null,
      "metadata": {
        "id": "fVBcutiHfoIa"
      },
      "outputs": [],
      "source": [
        "# Age, Fare 값 BoxPlot으로 확인\n"
      ]
    },
    {
      "cell_type": "code",
      "execution_count": null,
      "metadata": {
        "id": "WbdZGq4G1LGJ"
      },
      "outputs": [],
      "source": [
        "# Fare 데이터 자세히 들여다보기 - Pclass별로\n"
      ]
    },
    {
      "cell_type": "code",
      "execution_count": null,
      "metadata": {
        "id": "3yUlv94D1hTC"
      },
      "outputs": [],
      "source": [
        "# Fare 데이터 자세히 들여다보기 - 실제 샘플 확인\n"
      ]
    },
    {
      "cell_type": "code",
      "execution_count": null,
      "metadata": {
        "id": "nsVW7JZLGYj-"
      },
      "outputs": [],
      "source": [
        "df_train"
      ]
    },
    {
      "cell_type": "markdown",
      "metadata": {
        "id": "fb24UDply7zQ"
      },
      "source": [
        "### 데이터 정규화"
      ]
    },
    {
      "cell_type": "code",
      "execution_count": null,
      "metadata": {
        "id": "9P1BPpOQ30Jd"
      },
      "outputs": [],
      "source": [
        "# Age, Fare에 대해 z-score 정규화\n",
        "\n"
      ]
    },
    {
      "cell_type": "markdown",
      "metadata": {
        "id": "XFtQa_nBzAoG"
      },
      "source": [
        "### 데이터 인코딩"
      ]
    },
    {
      "cell_type": "code",
      "execution_count": null,
      "metadata": {
        "id": "IyF3cTEHzCzg"
      },
      "outputs": [],
      "source": [
        "# Sex(성별), Embarked(배에 탑승한 위치) 데이터 인코딩\n"
      ]
    },
    {
      "cell_type": "code",
      "execution_count": null,
      "metadata": {
        "id": "seOqSTEoFgeN"
      },
      "outputs": [],
      "source": [
        "# Ticket 데이터 살펴보기\n"
      ]
    },
    {
      "cell_type": "code",
      "execution_count": null,
      "metadata": {
        "id": "WLjaBgfcFihh"
      },
      "outputs": [],
      "source": [
        "# Name 데이터 살펴보기\n"
      ]
    },
    {
      "cell_type": "code",
      "execution_count": null,
      "metadata": {
        "id": "I5Eux6e4OKZn"
      },
      "outputs": [],
      "source": [
        "# Name에 포함된 호칭 추출하여 확인\n",
        "# 정규표현식은 학습범위를 벗어나므로 결과만을 참고한다.\n",
        "df_train['Name'].str.extract(\"([A-Za-z]+)\\.\").value_counts(dropna=False)"
      ]
    },
    {
      "cell_type": "code",
      "execution_count": null,
      "metadata": {
        "id": "iiqqyg0EHWQZ"
      },
      "outputs": [],
      "source": [
        "# 이름에 'Master', 'Dr', 'Rev(목사)', 'Major', 'Col(대령)', 'Capt', 'Jonkheer(귀족)', 'Don', 'Countess(백작)', 'Sir' 포함여부를 Flag화 한다.\n",
        "df_train['Name_has_title'] = df_train['Name'].str.contains('Master|Dr|Rev|Major|Col|Capt|Jonkheer|Don|Countess|Sir').astype(int)"
      ]
    },
    {
      "cell_type": "code",
      "execution_count": null,
      "metadata": {
        "id": "rT5TqCrPVn8I"
      },
      "outputs": [],
      "source": [
        "# Name, Ticket 필드 분석에서 제외\n"
      ]
    },
    {
      "cell_type": "code",
      "execution_count": null,
      "metadata": {
        "id": "fwxPn8UyLFZR"
      },
      "outputs": [],
      "source": [
        "df_train"
      ]
    },
    {
      "cell_type": "markdown",
      "metadata": {
        "id": "M_wWZyKyp14k"
      },
      "source": [
        "## 3.2. 텍스트 분석"
      ]
    },
    {
      "cell_type": "markdown",
      "metadata": {
        "id": "5QoFNxJDskK1"
      },
      "source": [
        "해당 프로젝트에서는  (3-1. 단계에서 Name 필드로부터 name_has_title Feature를 추출한 정도 외에는) 텍스트 마이닝이 필요할 정도의 비정형 데이터를 포함하지 않아 텍스트 분석 단계를 거치지 않는다. "
      ]
    },
    {
      "cell_type": "markdown",
      "metadata": {
        "id": "xW9ZZrddp6ud"
      },
      "source": [
        "## 3.3. 탐색적 분석"
      ]
    },
    {
      "cell_type": "markdown",
      "metadata": {
        "id": "Dl7gsToHRzce"
      },
      "source": [
        "### 산포도 분석\n"
      ]
    },
    {
      "cell_type": "code",
      "execution_count": null,
      "metadata": {
        "id": "-NlL93iTWkHj"
      },
      "outputs": [],
      "source": [
        "# Pclass에 따른 Survived(사망자/생존자) 분포\n"
      ]
    },
    {
      "cell_type": "code",
      "execution_count": null,
      "metadata": {
        "id": "ATQyyEi7f6QC"
      },
      "outputs": [],
      "source": [
        "# Pclass에 따른 Survived(사망자/생존자) 분포\n"
      ]
    },
    {
      "cell_type": "markdown",
      "metadata": {
        "id": "em8p55IWR2q9"
      },
      "source": [
        "### 상관관계 분석"
      ]
    },
    {
      "cell_type": "code",
      "execution_count": null,
      "metadata": {
        "id": "gi5N0DMzclVr"
      },
      "outputs": [],
      "source": [
        "# 상관관계 계산\n",
        "cols_to_corr = ['Pclass', 'Age', 'SibSp', 'Parch', 'Fare', 'Name_has_title']\n"
      ]
    },
    {
      "cell_type": "code",
      "execution_count": null,
      "metadata": {
        "id": "hxjity1yCWXh"
      },
      "outputs": [],
      "source": [
        "# 상관관계 시각화\n"
      ]
    },
    {
      "cell_type": "markdown",
      "metadata": {
        "id": "S-uJvBHkWqhr"
      },
      "source": [
        "### 전처리 일괄 실행 함수 만들기"
      ]
    },
    {
      "cell_type": "markdown",
      "metadata": {
        "id": "Ft3gD_TnqFq_"
      },
      "source": [
        "## 3.4. 모델링"
      ]
    },
    {
      "cell_type": "code",
      "execution_count": null,
      "metadata": {
        "id": "gLICJ10IX9jf"
      },
      "outputs": [],
      "source": [
        "# 전처리 함수 refactoring\n",
        "def part5_preprocessing(df_orig, mode='train', replace_embarked=None, replace_age=None, scaler=None):\n",
        "    df = df_orig.copy()\n",
        "\n",
        "    # 결측치 처리 (훈련 데이터 상에서 파악한 최빈도값/평균값 공통 사용)\n",
        "    if mode == 'train':\n",
        "        replace_embarked = df_train['Embarked'].value_counts(dropna=False).idxmax()\n",
        "        replace_age = df_train['Age'].mean().round(2)\n",
        "    df['Embarked'] = df['Embarked'].fillna(replace_embarked)\n",
        "    df['Age_isna'] = df['Age'].isna().astype(int)\n",
        "    df['Age'] = df['Age'].fillna(replace_age)\n",
        "\n",
        "    # 이상값 처리 - 없음\n",
        "\n",
        "    # 데이터 정규화 (훈련 데이터 상에서 학습된 scaler 공통 사용)\n",
        "    if mode == 'train':\n",
        "        scaler = preprocessing.StandardScaler()\n",
        "        scaler = scaler.fit(df[['Age', 'Fare']])\n",
        "    df[['Age', 'Fare']] = scaler.transform(df[['Age', 'Fare']])\n",
        "\n",
        "    # 데이터 인코딩\n",
        "    df = pd.get_dummies(df, columns = ['Sex', 'Embarked'])\n",
        "    df['Name_has_title'] = df['Name'].str.contains('Master|Dr|Rev|Major|Col|Capt|Jonkheer|Don|Countess|Sir').astype(int)\n",
        "\n",
        "    # 전처리에 사용된 원본 필드, 분석에 불필요한 필드를 제외시킨다.\n",
        "    df = df.drop(columns=['Name', 'Ticket', 'Cabin'])\n",
        "    \n",
        "    return df, replace_embarked, replace_age, scaler"
      ]
    },
    {
      "cell_type": "code",
      "execution_count": null,
      "metadata": {
        "id": "eMQWBVW9Zbxg"
      },
      "outputs": [],
      "source": [
        "# 학습 데이터 전처리 (일괄 적용)\n",
        "df_train = pd.read_csv(colab_path + 'part5_titanic_train.csv')\n"
      ]
    },
    {
      "cell_type": "code",
      "execution_count": null,
      "metadata": {
        "id": "pgH2Vik2tnLy"
      },
      "outputs": [],
      "source": [
        "# Feature(X), Label(y) 분리\n"
      ]
    },
    {
      "cell_type": "code",
      "execution_count": null,
      "metadata": {
        "id": "wRtVn7miH0o_"
      },
      "outputs": [],
      "source": [
        "# 훈련용/평가용 데이터 분할\n"
      ]
    },
    {
      "cell_type": "code",
      "execution_count": null,
      "metadata": {
        "id": "1NlErGQpwFia"
      },
      "outputs": [],
      "source": [
        "# 모델 1 학습 \n",
        "from sklearn.linear_model import LogisticRegression\n"
      ]
    },
    {
      "cell_type": "code",
      "execution_count": null,
      "metadata": {
        "id": "fqGGfepeBzdU"
      },
      "outputs": [],
      "source": [
        "# 모델 평가\n"
      ]
    },
    {
      "cell_type": "code",
      "execution_count": null,
      "metadata": {
        "id": "M8HybXdNJnIc"
      },
      "outputs": [],
      "source": [
        "# 모델 2 학습 및 평가\n",
        "from sklearn.svm import SVC\n"
      ]
    },
    {
      "cell_type": "code",
      "execution_count": null,
      "metadata": {
        "id": "3GRVTfaSKY-M"
      },
      "outputs": [],
      "source": [
        "# 모델 3 학습 및 평가\n",
        "from sklearn.ensemble import RandomForestClassifier\n"
      ]
    },
    {
      "cell_type": "markdown",
      "metadata": {
        "id": "nZF4jm0zqKoF"
      },
      "source": [
        "## 3.5. 모델 평가 및 검증"
      ]
    },
    {
      "cell_type": "code",
      "execution_count": null,
      "metadata": {
        "id": "q2KoUovWKXrJ"
      },
      "outputs": [],
      "source": [
        "# ROC Curve 플롯팅\n",
        "from sklearn.metrics import roc_curve\n"
      ]
    },
    {
      "cell_type": "code",
      "execution_count": null,
      "metadata": {
        "id": "gxEzgPvLicGC"
      },
      "outputs": [],
      "source": [
        "# AUC Score\n",
        "from sklearn.metrics import roc_auc_score\n"
      ]
    },
    {
      "cell_type": "markdown",
      "metadata": {
        "id": "5YYr4yyWqNgq"
      },
      "source": [
        "## 3.6. 모델 적용 및 운영방안 수립 (테스트 데이터셋 예측)"
      ]
    },
    {
      "cell_type": "code",
      "execution_count": null,
      "metadata": {
        "id": "KIp-97Bgp5_a"
      },
      "outputs": [],
      "source": [
        "# 모델 저장\n",
        "# AUC Score 기준 가장 성능이 좋았던 Logistic Regression 모델을 저장한다.\n",
        "\n",
        "with open(colab_path + 'saved_model.pickle','wb') as fw:\n",
        "    pickle.dump(model1, fw)"
      ]
    },
    {
      "cell_type": "code",
      "execution_count": null,
      "metadata": {
        "id": "M-EXbihdiuEh"
      },
      "outputs": [],
      "source": [
        "# 모델 로드\n",
        "with open(colab_path + 'saved_model.pickle','rb') as f:\n",
        "    model = pickle.load(f)"
      ]
    },
    {
      "cell_type": "code",
      "execution_count": null,
      "metadata": {
        "id": "dmsONP1Xiyfi"
      },
      "outputs": [],
      "source": [
        "# 테스트 데이터 전처리\n",
        "df_test = pd.read_csv(colab_path + 'part5_titanic_test.csv')\n",
        "\n"
      ]
    },
    {
      "cell_type": "code",
      "execution_count": null,
      "metadata": {
        "id": "HmpnWC1-FPsj"
      },
      "outputs": [],
      "source": [
        "# 테스트 데이터 중 1건에 'Fare'에 대한 결측치가 존재하므로 결측치를 train 데이터의 평균값으로 대체한다.\n",
        "\n"
      ]
    },
    {
      "cell_type": "code",
      "execution_count": null,
      "metadata": {
        "id": "iE876OMw-bk7"
      },
      "outputs": [],
      "source": [
        "# PassengerId 인덱스화\n"
      ]
    },
    {
      "cell_type": "code",
      "execution_count": null,
      "metadata": {
        "id": "HtbNdbcN8MST"
      },
      "outputs": [],
      "source": [
        "# 최종 생존율 예측\n"
      ]
    },
    {
      "cell_type": "markdown",
      "metadata": {
        "id": "2SwVXlHTqek1"
      },
      "source": [
        "# 4. 시스템 구현 (Developing)"
      ]
    },
    {
      "cell_type": "markdown",
      "metadata": {
        "id": "MsBiVA8RimsK"
      },
      "source": [
        "해당 프로젝트에서는 시스템 구현 단계는 수행하지 않는다. (전문교육 과정 마지막 프로젝트에서 시스템 구현에 대한 내용을 다룬다.)"
      ]
    },
    {
      "cell_type": "markdown",
      "metadata": {
        "id": "gp-KcYwLqhLW"
      },
      "source": [
        "# 5. 평가 및 전개 (Deploying)"
      ]
    },
    {
      "cell_type": "markdown",
      "metadata": {
        "id": "6ZMOnHqoirk7"
      },
      "source": [
        "자신만의 모델 개선"
      ]
    }
  ],
  "metadata": {
    "colab": {
      "collapsed_sections": [
        "N6S7neQGcmgv"
      ],
      "name": "part5-s.ipynb",
      "provenance": [],
      "include_colab_link": true
    },
    "kernelspec": {
      "display_name": "Python 3 (ipykernel)",
      "language": "python",
      "name": "python3"
    },
    "language_info": {
      "codemirror_mode": {
        "name": "ipython",
        "version": 3
      },
      "file_extension": ".py",
      "mimetype": "text/x-python",
      "name": "python",
      "nbconvert_exporter": "python",
      "pygments_lexer": "ipython3",
      "version": "3.9.7"
    }
  },
  "nbformat": 4,
  "nbformat_minor": 0
}